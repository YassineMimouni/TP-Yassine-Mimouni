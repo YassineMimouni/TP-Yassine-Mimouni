{
 "cells": [
  {
   "cell_type": "code",
   "execution_count": 1,
   "metadata": {},
   "outputs": [],
   "source": [
    "import matplotlib.pyplot as plt\n",
    "import numpy as np"
   ]
  },
  {
   "cell_type": "code",
   "execution_count": 2,
   "metadata": {},
   "outputs": [],
   "source": [
    "## Exercice 1:\n",
    "\n",
    "# Question 1)\n",
    "filename = \"_\".join([\"HMMA238\", \"TP\", \"yassinemimouni\"]) + \".ipynb\"\n",
    "\n",
    "# Question 2)\n",
    "taille_str = len(filename)\n",
    "\n",
    "\n",
    "# Question 3)\n",
    "ma_graine = taille_str % 6"
   ]
  },
  {
   "cell_type": "code",
   "execution_count": 3,
   "metadata": {},
   "outputs": [],
   "source": [
    "def calcul_nb_voisins(Z):\n",
    "    \n",
    "    '''Fonction qui renvoie une matrice de même taille que Z contenant le nombre de voisins de chaque élément de Z\n",
    "    i.e. N[i] = nombre de voisins de Z[i]'''\n",
    "    \n",
    "    \n",
    "    forme = len(Z), len(Z[0])\n",
    "    N = [[0, ] * (forme[0]) for i in range(forme[1])]\n",
    "    for x in range(1, forme[0] -1):\n",
    "        for y in range(1, forme[1] - 1):\n",
    "            N[x][y] = Z[x-1][y-1] + Z[x][y-1] + Z[x+1][y-1] + Z[x-1][y] + 0 + Z[x+1][y] + Z[x-1][y+1] + Z[x][y+1] + Z[x+1][y+1]\n",
    "    return N                     \n"
   ]
  },
  {
   "cell_type": "code",
   "execution_count": 4,
   "metadata": {},
   "outputs": [
    {
     "name": "stdout",
     "output_type": "stream",
     "text": [
      "Help on function calcul_nb_voisins in module __main__:\n",
      "\n",
      "calcul_nb_voisins(Z)\n",
      "    Fonction qui renvoie une matrice de même taille que Z contenant le nombre de voisins de chaque élément de Z\n",
      "    i.e. N[i] = nombre de voisins de Z[i]\n",
      "\n"
     ]
    }
   ],
   "source": [
    "help(calcul_nb_voisins)"
   ]
  },
  {
   "cell_type": "code",
   "execution_count": 5,
   "metadata": {},
   "outputs": [
    {
     "name": "stdout",
     "output_type": "stream",
     "text": [
      "N représente la matrice contenant le nombre de voisins de chaque élément de Z i.e. N[i] = nombre de voisins de Z[i]\n"
     ]
    },
    {
     "data": {
      "text/plain": [
       "[[0, 0, 0, 0, 0, 0],\n",
       " [0, 1, 3, 1, 2, 0],\n",
       " [0, 1, 5, 3, 3, 0],\n",
       " [0, 2, 3, 2, 2, 0],\n",
       " [0, 1, 2, 2, 1, 0],\n",
       " [0, 0, 0, 0, 0, 0]]"
      ]
     },
     "execution_count": 5,
     "metadata": {},
     "output_type": "execute_result"
    }
   ],
   "source": [
    "# Question 4) Partie 1\n",
    "\n",
    "Z =[[0,0,0,0,0,0],[0,0,0,1,0,0],[0,1,0,1,0,0],[0,0,1,1,0,0],[0,0,0,0,0,0],[0,0,0,0,0,0]]\n",
    "\n",
    "N = calcul_nb_voisins(Z)\n",
    "\n",
    "print(\"N représente la matrice contenant le nombre de voisins de chaque élément de Z i.e. N[i] = nombre de voisins de Z[i]\")\n",
    "N\n"
   ]
  },
  {
   "cell_type": "code",
   "execution_count": 6,
   "metadata": {},
   "outputs": [],
   "source": [
    "def iteration_jeu(Z):\n",
    "    \n",
    "    '''Fonction d'une matrice Z\n",
    "       Renvoie la matrice Z après un tour du jeu de la vie\n",
    "       Fait appel à la fonction calcul_nb_voisin'''    \n",
    "    \n",
    "    \n",
    "    forme = len(Z), len(Z[0])\n",
    "    N = calcul_nb_voisins(Z)\n",
    "    for x in range(1, forme[0] -1):\n",
    "        for y in range(1, forme[1] - 1):\n",
    "            if Z[x][y] == 1 and (N[x][y]<2 or N[x][y]>3):\n",
    "                Z[x][y] = 0\n",
    "            elif Z[x][y] == 0 and N[x][y]==3:\n",
    "                Z[x][y] = 1\n",
    "               \n",
    "    return Z\n",
    "    "
   ]
  },
  {
   "cell_type": "code",
   "execution_count": 7,
   "metadata": {},
   "outputs": [
    {
     "name": "stdout",
     "output_type": "stream",
     "text": [
      "Help on function iteration_jeu in module __main__:\n",
      "\n",
      "iteration_jeu(Z)\n",
      "    Fonction d'une matrice Z\n",
      "    Renvoie la matrice Z après un tour du jeu de la vie\n",
      "    Fait appel à la fonction calcul_nb_voisin\n",
      "\n"
     ]
    }
   ],
   "source": [
    "# Question 4) Partie 2\n",
    "help(iteration_jeu)"
   ]
  },
  {
   "cell_type": "code",
   "execution_count": 28,
   "metadata": {},
   "outputs": [
    {
     "data": {
      "text/plain": [
       "(-0.5, 5.5, 5.5, -0.5)"
      ]
     },
     "execution_count": 28,
     "metadata": {},
     "output_type": "execute_result"
    },
    {
     "data": {
      "image/png": "[encoded data removed]",
      "text/plain": [
       "<Figure size 432x288 with 1 Axes>"
      ]
     },
     "metadata": {
      "needs_background": "light"
     },
     "output_type": "display_data"
    }
   ],
   "source": [
    "Z =[[0,0,0,0,0,0],[0,0,0,1,0,0],[0,1,0,1,0,0],[0,0,1,1,0,0],[0,0,0,0,0,0],[0,0,0,0,0,0]]\n",
    "plt.imshow(np.array(Z))\n",
    "plt.axis('off')"
   ]
  },
  {
   "cell_type": "code",
   "execution_count": 33,
   "metadata": {},
   "outputs": [
    {
     "data": {
      "image/png": "[encoded data removed]",
      "text/plain": [
       "<Figure size 864x864 with 10 Axes>"
      ]
     },
     "metadata": {
      "needs_background": "light"
     },
     "output_type": "display_data"
    }
   ],
   "source": [
    "# Question 5)\n",
    "\n",
    "\n",
    "fig, axs = plt.subplots(2, 5, figsize=(12,12))\n",
    "\n",
    "\n",
    "Y=np.array(Z)\n",
    "\n",
    "\n",
    "for i in range(2):\n",
    "    for j in range(5):\n",
    "        \n",
    "        axs[i,j].imshow(Y)\n",
    "        axs[i,j].set_title(\"\".join(\"Itération \" + str(5*i+j))) # Numero de l'itération\n",
    "        axs[i,j].axis('off')                                 # Suppression des axes\n",
    "        \n",
    "        Y = iteration_jeu(Y)\n",
    "        \n",
    "       \n",
    "   \n",
    "        \n"
   ]
  },
  {
   "cell_type": "code",
   "execution_count": 34,
   "metadata": {},
   "outputs": [],
   "source": [
    "## Question 6)\n",
    "\n",
    "# De l'itération 0 à 4, le nombre de cellules vivantes reste constant (= 5) avec un mouvement de la localisation de ces cellules\n",
    "# A partir de l'itération 7, le nombre de cellules vivantes reste constant et sans mouvement. \n",
    "# Le jeu s'arrête.\n"
   ]
  },
  {
   "cell_type": "code",
   "execution_count": 50,
   "metadata": {},
   "outputs": [],
   "source": [
    "# Question 7)\n",
    "\n",
    "vect = np.array([0,1,0,0,1,1])  # array vect\n",
    "np_vect = np.zeros(vect.shape)  # array de même shape que vect composé de 0 uniquement\n",
    "\n",
    "# On slice les termes de np_vect à l'exception du premier et du dernier\n",
    "# On y ajoute les 4 premiers termes de vect et les 4 derniers termes de ce même vecteur \n",
    "np_vect[1:-1] += (vect[:-2] + vect[2:]) \n"
   ]
  },
  {
   "cell_type": "code",
   "execution_count": null,
   "metadata": {},
   "outputs": [],
   "source": []
  }
 ],
 "metadata": {
  "file_extension": ".py",
  "kernelspec": {
   "display_name": "Python 3",
   "language": "python",
   "name": "python3"
  },
  "language_info": {
   "codemirror_mode": {
    "name": "ipython",
    "version": 3
   },
   "file_extension": ".py",
   "mimetype": "text/x-python",
   "name": "python",
   "nbconvert_exporter": "python",
   "pygments_lexer": "ipython3",
   "version": "3.7.4"
  },
  "mimetype": "text/x-python",
  "name": "python",
  "npconvert_exporter": "python",
  "pygments_lexer": "ipython3",
  "version": 3
 },
 "nbformat": 4,
 "nbformat_minor": 2
}
