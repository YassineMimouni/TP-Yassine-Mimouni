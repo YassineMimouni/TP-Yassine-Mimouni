{
 "cells": [
  {
   "cell_type": "code",
   "execution_count": 2,
   "metadata": {},
   "outputs": [],
   "source": [
    "import matplotlib.pyplot as plt\n",
    "import numpy as np"
   ]
  },
  {
   "cell_type": "markdown",
   "metadata": {},
   "source": [
    "# TP : Le jeu de la vie\n",
    "\n"
   ]
  },
  {
   "cell_type": "markdown",
   "metadata": {},
   "source": [
    "## Question 1)"
   ]
  },
  {
   "cell_type": "code",
   "execution_count": 13,
   "metadata": {},
   "outputs": [
    {
     "data": {
      "text/plain": [
       "'HMMA238_TP_yassinemimouni.ipynb'"
      ]
     },
     "execution_count": 13,
     "metadata": {},
     "output_type": "execute_result"
    }
   ],
   "source": [
    "filename = \"_\".join([\"HMMA238\", \"TP\", \"yassinemimouni\"]) + \".ipynb\"\n",
    "filename"
   ]
  },
  {
   "cell_type": "markdown",
   "metadata": {},
   "source": [
    "## Question 2)"
   ]
  },
  {
   "cell_type": "code",
   "execution_count": 14,
   "metadata": {},
   "outputs": [
    {
     "data": {
      "text/plain": [
       "31"
      ]
     },
     "execution_count": 14,
     "metadata": {},
     "output_type": "execute_result"
    }
   ],
   "source": [
    "taille_str = len(filename)\n",
    "taille_strlle_str"
   ]
  },
  {
   "cell_type": "markdown",
   "metadata": {},
   "source": [
    "## Question 3)"
   ]
  },
  {
   "cell_type": "code",
   "execution_count": 15,
   "metadata": {},
   "outputs": [
    {
     "data": {
      "text/plain": [
       "1"
      ]
     },
     "execution_count": 15,
     "metadata": {},
     "output_type": "execute_result"
    }
   ],
   "source": [
    "ma_graine = taille_str % 6\n",
    "ma_graine"
   ]
  },
  {
   "cell_type": "markdown",
   "metadata": {},
   "source": [
    "## Question 4) \n"
   ]
  },
  {
   "cell_type": "markdown",
   "metadata": {},
   "source": [
    "### Partie 1"
   ]
  },
  {
   "cell_type": "code",
   "execution_count": 31,
   "metadata": {},
   "outputs": [],
   "source": [
    "def calcul_nb_voisins(Z):\n",
    "    \n",
    "    '''Fonction qui renvoie une matrice de même taille que Z contenant le nombre de voisins de chaque élément de Z\n",
    "    i.e. N[i] = nombre de voisins de Z[i]'''\n",
    "    \n",
    "    \n",
    "    forme = len(Z), len(Z[0])\n",
    "    N = [[0, ] * (forme[0]) for i in range(forme[1])]\n",
    "    for x in range(1, forme[0] -1):\n",
    "        for y in range(1, forme[1] - 1):\n",
    "            N[x][y] = Z[x-1][y-1] + Z[x][y-1] + Z[x+1][y-1] \\\n",
    "            + Z[x-1][y] + 0 + Z[x+1][y] \\\n",
    "            + Z[x-1][y+1] + Z[x][y+1] + Z[x+1][y+1]\n",
    "    return N                     \n"
   ]
  },
  {
   "cell_type": "code",
   "execution_count": 9,
   "metadata": {},
   "outputs": [
    {
     "data": {
      "text/plain": [
       "[[0, 0, 0, 0, 0, 0],\n",
       " [0, 1, 3, 1, 2, 0],\n",
       " [0, 1, 5, 3, 3, 0],\n",
       " [0, 2, 3, 2, 2, 0],\n",
       " [0, 1, 2, 2, 1, 0],\n",
       " [0, 0, 0, 0, 0, 0]]"
      ]
     },
     "execution_count": 9,
     "metadata": {},
     "output_type": "execute_result"
    }
   ],
   "source": [
    "Z =[[0,0,0,0,0,0],[0,0,0,1,0,0],[0,1,0,1,0,0],[0,0,1,1,0,0],[0,0,0,0,0,0],[0,0,0,0,0,0]]\n",
    "N = calcul_nb_voisins(Z)\n",
    "N"
   ]
  },
  {
   "cell_type": "markdown",
   "metadata": {},
   "source": [
    "N représente la matrice contenant le nombre de voisins de chaque élément de Z  i.e. N[i] = nombre de voisins de Z[i].\n"
   ]
  },
  {
   "cell_type": "markdown",
   "metadata": {},
   "source": [
    "### Partie 2"
   ]
  },
  {
   "cell_type": "code",
   "execution_count": 8,
   "metadata": {},
   "outputs": [],
   "source": [
    "def iteration_jeu(Z):\n",
    "    \n",
    "    '''Fonction d'une matrice Z\n",
    "       Renvoie la matrice Z après un tour du jeu de la vie\n",
    "       Fait appel à la fonction calcul_nb_voisin'''    \n",
    "    \n",
    "    \n",
    "    forme = len(Z), len(Z[0])\n",
    "    N = calcul_nb_voisins(Z)\n",
    "    for x in range(1, forme[0] -1):\n",
    "        for y in range(1, forme[1] - 1):\n",
    "            if Z[x][y] == 1 and (N[x][y]<2 or N[x][y]>3):\n",
    "                Z[x][y] = 0\n",
    "            elif Z[x][y] == 0 and N[x][y]==3:\n",
    "                Z[x][y] = 1\n",
    "               \n",
    "    return Z\n",
    "    "
   ]
  },
  {
   "cell_type": "code",
   "execution_count": 7,
   "metadata": {},
   "outputs": [
    {
     "name": "stdout",
     "output_type": "stream",
     "text": [
      "Help on function iteration_jeu in module __main__:\n",
      "\n",
      "iteration_jeu(Z)\n",
      "    Fonction d'une matrice Z\n",
      "    Renvoie la matrice Z après un tour du jeu de la vie\n",
      "    Fait appel à la fonction calcul_nb_voisin\n",
      "\n"
     ]
    }
   ],
   "source": [
    "help(iteration_jeu)"
   ]
  },
  {
   "cell_type": "markdown",
   "metadata": {},
   "source": [
    "Voici à quoi ressemble la situation initiale de notre jeu."
   ]
  },
  {
   "cell_type": "code",
   "execution_count": 10,
   "metadata": {},
   "outputs": [
    {
     "data": {
      "text/plain": [
       "(-0.5, 5.5, 5.5, -0.5)"
      ]
     },
     "execution_count": 10,
     "metadata": {},
     "output_type": "execute_result"
    },
    {
     "data": {
      "image/png": "[encoded data removed]",
      "text/plain": [
       "<Figure size 432x288 with 1 Axes>"
      ]
     },
     "metadata": {
      "needs_background": "light"
     },
     "output_type": "display_data"
    }
   ],
   "source": [
    "Z =[[0,0,0,0,0,0],[0,0,0,1,0,0],[0,1,0,1,0,0],[0,0,1,1,0,0],[0,0,0,0,0,0],[0,0,0,0,0,0]]\n",
    "plt.imshow(Z)\n",
    "plt.axis('off')"
   ]
  },
  {
   "cell_type": "markdown",
   "metadata": {},
   "source": [
    "## Question 5)"
   ]
  },
  {
   "cell_type": "code",
   "execution_count": 191,
   "metadata": {},
   "outputs": [
    {
     "data": {
      "image/png": "[encoded data removed]",
      "text/plain": [
       "<Figure size 864x864 with 10 Axes>"
      ]
     },
     "metadata": {
      "needs_background": "light"
     },
     "output_type": "display_data"
    }
   ],
   "source": [
    "fig, axs = plt.subplots(2, 5, figsize=(12,12))\n",
    "\n",
    "Y=np.array(Z)\n",
    "\n",
    "for i in range(2):\n",
    "    for j in range(5):\n",
    "        \n",
    "        axs[i,j].imshow(Y)\n",
    "        axs[i,j].set_title(\"\".join(\"Itération \" + str(5*i+j))) # Numero de l'itération\n",
    "        axs[i,j].axis('off')                                   # Suppression des axes\n",
    "        \n",
    "        Y = iteration_jeu(Y)"
   ]
  },
  {
   "cell_type": "markdown",
   "metadata": {},
   "source": [
    "Ci-dessus, les dix premiers tours du jeu de la vie."
   ]
  },
  {
   "cell_type": "markdown",
   "metadata": {},
   "source": [
    "## Question 6)"
   ]
  },
  {
   "cell_type": "markdown",
   "metadata": {},
   "source": [
    "De l'itération 0 à 4, le nombre de cellules vivantes reste constant (= 5) avec un mouvement de la localisation de ces cellules.  \n",
    "A partir de l'itération 7, le nombre de cellules vivantes reste constant et sans mouvement.  \n",
    "Le jeu s'arrête.\n"
   ]
  },
  {
   "cell_type": "markdown",
   "metadata": {},
   "source": [
    "## Question 7)"
   ]
  },
  {
   "cell_type": "markdown",
   "metadata": {},
   "source": [
    "On slice les termes de np_vect à l'exception du premier et du dernier.  \n",
    "On y ajoute les 4 premiers termes de vect et les 4 derniers termes de ce même vecteur. "
   ]
  },
  {
   "cell_type": "code",
   "execution_count": 50,
   "metadata": {},
   "outputs": [],
   "source": [
    "vect = np.array([0,1,0,0,1,1])  # array vect\n",
    "np_vect = np.zeros(vect.shape)  # array de même shape que vect composé de 0 uniquement\n",
    "np_vect[1:-1] += (vect[:-2] + vect[2:]) "
   ]
  },
  {
   "cell_type": "markdown",
   "metadata": {},
   "source": [
    "## Question 8)"
   ]
  },
  {
   "cell_type": "markdown",
   "metadata": {},
   "source": [
    "On définit la fonction calcul_nb_voisins_np."
   ]
  },
  {
   "cell_type": "code",
   "execution_count": 42,
   "metadata": {},
   "outputs": [],
   "source": [
    "import numpy as np"
   ]
  },
  {
   "cell_type": "code",
   "execution_count": 103,
   "metadata": {},
   "outputs": [],
   "source": [
    "def calcul_nb_voisins_np(Z):\n",
    "    \n",
    "    \"\"\"Fonction prenant en entrée un numpy array Z\n",
    "       Calcul la matrice contenant le nombre de voisins de chaque élément de Z\n",
    "       Utilise les méthodes de slicing\"\"\"\n",
    "    \n",
    "    nbv = np.zeros(Y.shape)\n",
    "    nbv[1:-1, 1:-1] = Y[:-2, :-2] + Y[1:-1, :-2] + Y[2:, :-2] \\\n",
    "       + Y[:-2, 1:-1] + 0 + Y[2:, 1:-1] \\\n",
    "       + Y[:-2, 2:] + Y[1:-1, 2:] + Y[2:, 2:]\n",
    "    \n",
    "    return (nbv)"
   ]
  },
  {
   "cell_type": "markdown",
   "metadata": {},
   "source": [
    "On compare le résultat obtenu avec celui de la fonction calcul_nb_voisins sur la matrice Z."
   ]
  },
  {
   "cell_type": "code",
   "execution_count": 104,
   "metadata": {},
   "outputs": [
    {
     "data": {
      "text/plain": [
       "True"
      ]
     },
     "execution_count": 104,
     "metadata": {},
     "output_type": "execute_result"
    }
   ],
   "source": [
    "Z =[[0,0,0,0,0,0],[0,0,0,1,0,0],[0,1,0,1,0,0],[0,0,1,1,0,0],[0,0,0,0,0,0],[0,0,0,0,0,0]]\n",
    "\n",
    "nbv = np.array(calcul_nb_voisins(Z))\n",
    "nbv_np= calcul_nb_voisins_np(Z)\n",
    "nbv.all()==nbv_np.all()\n"
   ]
  },
  {
   "cell_type": "markdown",
   "metadata": {},
   "source": [
    "## Question 9)"
   ]
  },
  {
   "cell_type": "code",
   "execution_count": 185,
   "metadata": {},
   "outputs": [],
   "source": [
    "def iteration_jeu_np(Z):\n",
    "    \n",
    "    \"\"\"Fonction similaire à iteration_jeu qui prend en entrée des numpy array\"\"\"\n",
    "    \n",
    "   \n",
    "    forme = Z.shape\n",
    "    N = calcul_nb_voisins_np(Z)\n",
    "    for x in range(1, forme[0] -1):\n",
    "        for y in range(1, forme[1] - 1):\n",
    "            if Z[x][y] == 1 and (N[x][y]<2 or N[x][y]>3):\n",
    "                Z[x][y] = 0\n",
    "            elif Z[x][y] == 0 and N[x][y]==3:\n",
    "                Z[x][y] = 1\n",
    "               \n",
    "    return (Y)\n",
    "    "
   ]
  },
  {
   "cell_type": "markdown",
   "metadata": {},
   "source": [
    "On test l'égalité des fonctions iteration_jeu et iteration_jeu_np"
   ]
  },
  {
   "cell_type": "code",
   "execution_count": 108,
   "metadata": {},
   "outputs": [
    {
     "data": {
      "text/plain": [
       "True"
      ]
     },
     "execution_count": 108,
     "metadata": {},
     "output_type": "execute_result"
    }
   ],
   "source": [
    "Z =[[0,0,0,0,0,0],[0,0,0,1,0,0],[0,1,0,1,0,0],[0,0,1,1,0,0],[0,0,0,0,0,0],[0,0,0,0,0,0]]\n",
    "\n",
    "Y=np.asarray(Z)\n",
    "W = np.asarray(iteration_jeu(Z))\n",
    "W.all() == iteration_jeu_np(Y).all()"
   ]
  },
  {
   "cell_type": "code",
   "execution_count": null,
   "metadata": {},
   "outputs": [],
   "source": []
  },
  {
   "cell_type": "markdown",
   "metadata": {},
   "source": [
    "## Question 10)"
   ]
  },
  {
   "cell_type": "code",
   "execution_count": 247,
   "metadata": {},
   "outputs": [],
   "source": [
    "def jeu_np(Z_ini, nb_iter):\n",
    "    \n",
    "    \"\"\"Fonction admettant en entrée un numpy array Z_in et en sortie la matrice Z après nb_iter itérations du jeu de la vie\"\"\"\n",
    "    \n",
    "    if (nb_iter==0):\n",
    "        return(plt.imshow(Z_ini), plt.title(\"\".join(\"Itération \" + str(nb_iter))), plt.axis('off'))\n",
    "    \n",
    "    else:\n",
    "        for i in range(nb_iter-1):\n",
    "            iteration_jeu_np(Z_ini)\n",
    "        \n",
    "    plt.imshow(iteration_jeu(Z_ini))\n",
    "    plt.title(\"\".join(\"Itération \" + str(nb_iter)))\n",
    "    plt.axis('off')\n",
    "        "
   ]
  },
  {
   "cell_type": "markdown",
   "metadata": {},
   "source": [
    "On vérifie que la fonction jeu_np fonctionne correctement.  \n",
    "On compare avec l'itération 6 vù à la question 5)."
   ]
  },
  {
   "cell_type": "code",
   "execution_count": 251,
   "metadata": {},
   "outputs": [
    {
     "data": {
      "image/png": "[encoded data removed]",
      "text/plain": [
       "<Figure size 432x288 with 1 Axes>"
      ]
     },
     "metadata": {
      "needs_background": "light"
     },
     "output_type": "display_data"
    }
   ],
   "source": [
    "Z =[[0,0,0,0,0,0],[0,0,0,1,0,0],[0,1,0,1,0,0],[0,0,1,1,0,0],[0,0,0,0,0,0],[0,0,0,0,0,0]]\n",
    "Y=np.asarray(Z)\n",
    "jeu_np(Y,6)\n"
   ]
  },
  {
   "cell_type": "code",
   "execution_count": null,
   "metadata": {},
   "outputs": [],
   "source": []
  }
 ],
 "metadata": {
  "file_extension": ".py",
  "kernelspec": {
   "display_name": "Python 3",
   "language": "python",
   "name": "python3"
  },
  "language_info": {
   "codemirror_mode": {
    "name": "ipython",
    "version": 3
   },
   "file_extension": ".py",
   "mimetype": "text/x-python",
   "name": "python",
   "nbconvert_exporter": "python",
   "pygments_lexer": "ipython3",
   "version": "3.7.4"
  },
  "mimetype": "text/x-python",
  "name": "python",
  "npconvert_exporter": "python",
  "pygments_lexer": "ipython3",
  "version": 3
 },
 "nbformat": 4,
 "nbformat_minor": 2
}
