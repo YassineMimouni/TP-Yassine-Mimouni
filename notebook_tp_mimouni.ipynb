{
 "cells": [
  {
   "cell_type": "code",
   "execution_count": 25,
   "metadata": {},
   "outputs": [],
   "source": [
    "def calcul_nb_voisins(Z):\n",
    "    \n",
    "    '''Fonction calcul_nb_voisin qui renvoie une matrice de même taille que Z contenant le nombre de voisins de chaque élément de Z '''\n",
    "    \n",
    "    \n",
    "    forme = len(Z), len(Z[0])\n",
    "    N = [[0, ] * (forme[0]) for i in range(forme[1])]\n",
    "    for x in range(1, forme[0] -1):\n",
    "        for y in range(1, forme[1] - 1):\n",
    "            N[x][y] = Z[x-1][y-1] + Z[x][y-1] + Z[x+1][y-1] + Z[x-1][y] + 0 + Z[x+1][y] + Z[x-1][y+1] + Z[x][y+1] + Z[x+1][y+1]\n",
    "    return N                     \n"
   ]
  },
  {
   "cell_type": "code",
   "execution_count": 26,
   "metadata": {},
   "outputs": [
    {
     "name": "stdout",
     "output_type": "stream",
     "text": [
      "Help on function calcul_nb_voisins in module __main__:\n",
      "\n",
      "calcul_nb_voisins(Z)\n",
      "    Fonction calcul_nb_voisin qui renvoie une matrice de même taille que Z contenant le nombre de voisins de chaque élément de Z\n",
      "\n"
     ]
    }
   ],
   "source": [
    "#help(calcul_nb_voisins)"
   ]
  },
  {
   "cell_type": "code",
   "execution_count": 2,
   "metadata": {},
   "outputs": [],
   "source": [
    "import numpy as np"
   ]
  },
  {
   "cell_type": "code",
   "execution_count": 5,
   "metadata": {},
   "outputs": [],
   "source": [
    "Z =[[0,0,0,0,0,0],[0,0,0,1,0,0],[0,1,0,1,0,0],[0,0,1,1,0,0],[0,0,0,0,0,0],[0,0,0,0,0,0]]"
   ]
  },
  {
   "cell_type": "code",
   "execution_count": 18,
   "metadata": {},
   "outputs": [],
   "source": [
    "N = calcul_nb_voisins(Z)\n",
    "#N"
   ]
  },
  {
   "cell_type": "code",
   "execution_count": 16,
   "metadata": {},
   "outputs": [],
   "source": [
    "def iteration_jeu(Z):\n",
    "    \n",
    "    '''Fonction itérative qui renvoie la matrice Z après un tour du jeu de la vie\n",
    "       Fait appel à la fonction calcul_nb_voisin'''    \n",
    "    \n",
    "    \n",
    "    forme = len(Z), len(Z[0])\n",
    "    N = calcul_nb_voisins(Z)\n",
    "    for x in range(1, forme[0] -1):\n",
    "        for y in range(1, forme[1] - 1):\n",
    "            if Z[x][y] == 1 and (N[x][y]<2 or N[x][y]>3):\n",
    "                Z[x][y] = 0\n",
    "            elif Z[x][y] == 0 and N[x][y]==3:\n",
    "                Z[x][y] = 1\n",
    "               \n",
    "    return Z\n",
    "    "
   ]
  },
  {
   "cell_type": "code",
   "execution_count": 17,
   "metadata": {},
   "outputs": [
    {
     "name": "stdout",
     "output_type": "stream",
     "text": [
      "Help on function iteration_jeu in module __main__:\n",
      "\n",
      "iteration_jeu(Z)\n",
      "    Fonction itérative qui renvoie la matrice Z après un tour du jeu de la vie\n",
      "    Fait appel à la fonction calcul_nb_voisin\n",
      "\n"
     ]
    }
   ],
   "source": [
    "Z1 = iteration_jeu(Z)\n",
    "#Z1"
   ]
  },
  {
   "cell_type": "code",
   "execution_count": 30,
   "metadata": {},
   "outputs": [],
   "source": [
    "import matplotlib as plt"
   ]
  },
  {
   "cell_type": "code",
   "execution_count": null,
   "metadata": {},
   "outputs": [],
   "source": []
  }
 ],
 "metadata": {
  "file_extension": ".py",
  "kernelspec": {
   "display_name": "Python 3",
   "language": "python",
   "name": "python3"
  },
  "language_info": {
   "codemirror_mode": {
    "name": "ipython",
    "version": 3
   },
   "file_extension": ".py",
   "mimetype": "text/x-python",
   "name": "python",
   "nbconvert_exporter": "python",
   "pygments_lexer": "ipython3",
   "version": "3.7.3"
  },
  "mimetype": "text/x-python",
  "name": "python",
  "npconvert_exporter": "python",
  "pygments_lexer": "ipython3",
  "version": 3
 },
 "nbformat": 4,
 "nbformat_minor": 2
}
